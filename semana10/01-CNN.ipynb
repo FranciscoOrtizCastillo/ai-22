{
 "cells": [
  {
   "cell_type": "code",
   "execution_count": 5,
   "id": "dc4f1c74",
   "metadata": {},
   "outputs": [],
   "source": [
    "import pandas as pd\n",
    "import numpy as np\n",
    "from tensorflow import keras\n",
    "import matplotlib.pyplot as plt\n",
    "\n",
    "# Red neuronal secuencial\n",
    "from tensorflow.keras.models import Sequential\n",
    "# Capa completamente conectada\n",
    "from tensorflow.keras import layers\n",
    "from tensorflow.keras.layers import Dense, Conv2D\n",
    "# Optimizador\n",
    "from tensorflow.keras.optimizers import Adam"
   ]
  },
  {
   "cell_type": "code",
   "execution_count": 6,
   "id": "5533599b",
   "metadata": {},
   "outputs": [],
   "source": [
    "# asegurar que los resultados sean \"reproducibles\"\n",
    "import tensorflow as tf\n",
    "\n",
    "np.random.seed(1234)\n",
    "tf.random.set_seed(1234)"
   ]
  },
  {
   "cell_type": "code",
   "execution_count": 7,
   "id": "8edabba9",
   "metadata": {},
   "outputs": [],
   "source": [
    "X_train = pd.read_csv('X_train.csv')\n",
    "y_train = pd.read_csv('y_train.csv')"
   ]
  },
  {
   "cell_type": "code",
   "execution_count": 8,
   "id": "820ed6f0",
   "metadata": {},
   "outputs": [],
   "source": [
    "def mostrar_num(in_data):\n",
    "    \"\"\"Genera un gráfico que muestra un registro\n",
    "    del set de datos.\n",
    "    Para ello, convierte el array de 1 dimensión en\n",
    "    una matriz de 28x28.\n",
    "    \"\"\"\n",
    "    matriz = np.array(in_data.values)\n",
    "    plt.imshow(matriz.reshape(28, 28))"
   ]
  },
  {
   "cell_type": "code",
   "execution_count": 9,
   "id": "7cd7110d",
   "metadata": {},
   "outputs": [
    {
     "name": "stdout",
     "output_type": "stream",
     "text": [
      "0    1\n",
      "1    0\n",
      "2    0\n",
      "3    0\n",
      "4    0\n",
      "5    0\n",
      "6    0\n",
      "7    0\n",
      "8    0\n",
      "9    0\n",
      "Name: 200, dtype: int64\n"
     ]
    },
    {
     "data": {
      "image/png": "[encoded data removed]",
      "text/plain": [
       "<Figure size 432x288 with 1 Axes>"
      ]
     },
     "metadata": {
      "needs_background": "light"
     },
     "output_type": "display_data"
    }
   ],
   "source": [
    "registro = 200\n",
    "print(y_train.iloc[registro])\n",
    "mostrar_num(X_train.iloc[registro])"
   ]
  },
  {
   "cell_type": "code",
   "execution_count": 10,
   "id": "75d98159",
   "metadata": {},
   "outputs": [
    {
     "name": "stdout",
     "output_type": "stream",
     "text": [
      "(7500, 784)\n"
     ]
    }
   ],
   "source": [
    "print(X_train.shape)"
   ]
  },
  {
   "cell_type": "code",
   "execution_count": 11,
   "id": "4461973d",
   "metadata": {},
   "outputs": [
    {
     "name": "stderr",
     "output_type": "stream",
     "text": [
      "2022-08-31 19:17:40.196783: I tensorflow/core/platform/cpu_feature_guard.cc:193] This TensorFlow binary is optimized with oneAPI Deep Neural Network Library (oneDNN) to use the following CPU instructions in performance-critical operations:  AVX2 FMA\n",
      "To enable them in other operations, rebuild TensorFlow with the appropriate compiler flags.\n"
     ]
    }
   ],
   "source": [
    "# Crear red neuronal \n",
    "nn_squencial = Sequential([\n",
    "    layers.Input(784),\n",
    "    layers.Dense(256, activation='relu'),\n",
    "    layers.Dense(256, activation='relu'),\n",
    "    layers.Dense(256, activation='relu'),\n",
    "    layers.Dense(128, activation='relu'),\n",
    "    layers.Dense(10, activation='softmax')\n",
    "])"
   ]
  },
  {
   "cell_type": "code",
   "execution_count": 12,
   "id": "ac2d9fdf",
   "metadata": {},
   "outputs": [],
   "source": [
    "nn_squencial.compile(\n",
    "    loss=\"categorical_crossentropy\",\n",
    "    optimizer=Adam(learning_rate=0.01),\n",
    "    metrics=[\"accuracy\"]\n",
    ")"
   ]
  },
  {
   "cell_type": "code",
   "execution_count": 13,
   "id": "7570ccc8",
   "metadata": {
    "scrolled": true
   },
   "outputs": [
    {
     "name": "stdout",
     "output_type": "stream",
     "text": [
      "Epoch 1/10\n",
      "211/211 [==============================] - 1s 3ms/step - loss: 12.9076 - accuracy: 0.5465 - val_loss: 0.8292 - val_accuracy: 0.6707\n",
      "Epoch 2/10\n",
      "211/211 [==============================] - 1s 3ms/step - loss: 0.7164 - accuracy: 0.7830 - val_loss: 0.7526 - val_accuracy: 0.7987\n",
      "Epoch 3/10\n",
      "211/211 [==============================] - 0s 2ms/step - loss: 0.5942 - accuracy: 0.8274 - val_loss: 0.5918 - val_accuracy: 0.8507\n",
      "Epoch 4/10\n",
      "211/211 [==============================] - 0s 2ms/step - loss: 0.5264 - accuracy: 0.8572 - val_loss: 0.6426 - val_accuracy: 0.8453\n",
      "Epoch 5/10\n",
      "211/211 [==============================] - 1s 2ms/step - loss: 0.5242 - accuracy: 0.8578 - val_loss: 0.6182 - val_accuracy: 0.8200\n",
      "Epoch 6/10\n",
      "211/211 [==============================] - 0s 2ms/step - loss: 0.5367 - accuracy: 0.8576 - val_loss: 0.5141 - val_accuracy: 0.8640\n",
      "Epoch 7/10\n",
      "211/211 [==============================] - 1s 2ms/step - loss: 0.4817 - accuracy: 0.8662 - val_loss: 0.5797 - val_accuracy: 0.8520\n",
      "Epoch 8/10\n",
      "211/211 [==============================] - 0s 2ms/step - loss: 0.4675 - accuracy: 0.8739 - val_loss: 0.5065 - val_accuracy: 0.8587\n",
      "Epoch 9/10\n",
      "211/211 [==============================] - 0s 2ms/step - loss: 0.4490 - accuracy: 0.8747 - val_loss: 0.5660 - val_accuracy: 0.8587\n",
      "Epoch 10/10\n",
      "211/211 [==============================] - 1s 2ms/step - loss: 0.4696 - accuracy: 0.8717 - val_loss: 0.5482 - val_accuracy: 0.8360\n"
     ]
    }
   ],
   "source": [
    "historial = nn_squencial.fit(\n",
    "    X_train.values,\n",
    "    y_train.values,\n",
    "    epochs=10,\n",
    "    validation_split=0.1\n",
    ")"
   ]
  },
  {
   "cell_type": "markdown",
   "id": "02ddca3f",
   "metadata": {},
   "source": [
    "# Redes neuronales convolucionales\n",
    "\n",
    "![cnn1](cnn.png)"
   ]
  },
  {
   "cell_type": "code",
   "execution_count": 14,
   "id": "c2419c00",
   "metadata": {},
   "outputs": [],
   "source": [
    "conv_nn = keras.Sequential(\n",
    "    [\n",
    "        keras.Input(shape=(28, 28, 1)),\n",
    "        layers.Conv2D(32, kernel_size=(3, 3), activation=\"relu\"),\n",
    "        layers.MaxPooling2D(pool_size=(2, 2)),\n",
    "        layers.Conv2D(64, kernel_size=(3, 3), activation=\"relu\"),\n",
    "        layers.MaxPooling2D(pool_size=(2, 2)),\n",
    "        layers.Flatten(),\n",
    "        layers.Dropout(0.5),\n",
    "        layers.Dense(10, activation=\"softmax\"),\n",
    "    ]\n",
    ")\n"
   ]
  },
  {
   "cell_type": "code",
   "execution_count": 15,
   "id": "d5435fac",
   "metadata": {},
   "outputs": [],
   "source": [
    "conv_nn.compile(\n",
    "    loss=\"categorical_crossentropy\",\n",
    "    optimizer=Adam(learning_rate=0.01),\n",
    "    metrics=[\"accuracy\"]\n",
    ")"
   ]
  },
  {
   "cell_type": "code",
   "execution_count": 16,
   "id": "e3a74bbe",
   "metadata": {},
   "outputs": [],
   "source": [
    "new_x_train = X_train.values.reshape(-1, 28, 28)"
   ]
  },
  {
   "cell_type": "code",
   "execution_count": 17,
   "id": "0c573b87",
   "metadata": {},
   "outputs": [
    {
     "name": "stdout",
     "output_type": "stream",
     "text": [
      "Epoch 1/10\n",
      "53/53 [==============================] - 2s 36ms/step - loss: 8.2392 - accuracy: 0.5009 - val_loss: 0.4525 - val_accuracy: 0.8520\n",
      "Epoch 2/10\n",
      "53/53 [==============================] - 2s 33ms/step - loss: 0.7273 - accuracy: 0.7616 - val_loss: 0.2607 - val_accuracy: 0.9147\n",
      "Epoch 3/10\n",
      "53/53 [==============================] - 2s 32ms/step - loss: 0.5630 - accuracy: 0.8193 - val_loss: 0.1914 - val_accuracy: 0.9307\n",
      "Epoch 4/10\n",
      "53/53 [==============================] - 2s 31ms/step - loss: 0.5166 - accuracy: 0.8310 - val_loss: 0.1748 - val_accuracy: 0.9467\n",
      "Epoch 5/10\n",
      "53/53 [==============================] - 1s 28ms/step - loss: 0.4482 - accuracy: 0.8587 - val_loss: 0.1677 - val_accuracy: 0.9587\n",
      "Epoch 6/10\n",
      "53/53 [==============================] - 1s 28ms/step - loss: 0.4265 - accuracy: 0.8676 - val_loss: 0.1161 - val_accuracy: 0.9600\n",
      "Epoch 7/10\n",
      "53/53 [==============================] - 1s 27ms/step - loss: 0.4224 - accuracy: 0.8668 - val_loss: 0.1290 - val_accuracy: 0.9613\n",
      "Epoch 8/10\n",
      "53/53 [==============================] - 2s 32ms/step - loss: 0.4028 - accuracy: 0.8686 - val_loss: 0.1437 - val_accuracy: 0.9547\n",
      "Epoch 9/10\n",
      "53/53 [==============================] - 1s 28ms/step - loss: 0.4034 - accuracy: 0.8719 - val_loss: 0.1363 - val_accuracy: 0.9520\n",
      "Epoch 10/10\n",
      "53/53 [==============================] - 1s 27ms/step - loss: 0.3947 - accuracy: 0.8754 - val_loss: 0.1493 - val_accuracy: 0.9453\n"
     ]
    },
    {
     "data": {
      "text/plain": [
       "<keras.callbacks.History at 0x7fb374fc3490>"
      ]
     },
     "execution_count": 17,
     "metadata": {},
     "output_type": "execute_result"
    }
   ],
   "source": [
    "conv_nn.fit(\n",
    "    new_x_train,\n",
    "    y_train,\n",
    "    batch_size=128,\n",
    "    epochs=10, validation_split=0.1\n",
    ")"
   ]
  },
  {
   "cell_type": "code",
   "execution_count": 18,
   "id": "84379ed1",
   "metadata": {},
   "outputs": [],
   "source": [
    "conv_nn.save('conv_nn.h5')"
   ]
  }
 ],
 "metadata": {
  "kernelspec": {
   "display_name": "Python 3 (ipykernel)",
   "language": "python",
   "name": "python3"
  },
  "language_info": {
   "codemirror_mode": {
    "name": "ipython",
    "version": 3
   },
   "file_extension": ".py",
   "mimetype": "text/x-python",
   "name": "python",
   "nbconvert_exporter": "python",
   "pygments_lexer": "ipython3",
   "version": "3.9.12"
  }
 },
 "nbformat": 4,
 "nbformat_minor": 5
}
