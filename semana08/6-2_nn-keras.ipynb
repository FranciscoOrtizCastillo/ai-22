{
 "cells": [
  {
   "cell_type": "markdown",
   "metadata": {},
   "source": [
    "# Keras\n",
    "\n",
    "Keras es una librería de alto nivel para generar redes neuronales. Fue concebida para funcionar como una interfaz amigable hacia el framework de inteligencia artificial *Tensorflow*, desarrollado por Google.\n",
    "\n",
    "_Código tomado en parte de [este link](https://machinelearningmastery.com/tutorial-first-neural-network-python-keras/)._"
   ]
  },
  {
   "cell_type": "code",
   "execution_count": null,
   "metadata": {},
   "outputs": [],
   "source": [
    "#Instalar tensorflow. Seguit documentacion TensorFlow instalar con pip\n",
    "# conda install -c conda-forge cudatoolkit=11.2 cudnn=8.1.0\n",
    "# conda install -c conda-forge cudatoolkit=11.2 cudnn=8.1.0\n",
    "# python3 -m pip install tensorflow-cpu"
   ]
  },
  {
   "cell_type": "code",
   "execution_count": 1,
   "metadata": {},
   "outputs": [],
   "source": [
    "import pandas as pd\n",
    "import matplotlib.pyplot as plt\n",
    "\n",
    "# Red neuronal secuencial\n",
    "from tensorflow.keras.models import Sequential\n",
    "# Capa completamente conectada\n",
    "from tensorflow.keras.layers import Dense\n",
    "# Optimizador\n",
    "from tensorflow.keras.optimizers import Adam"
   ]
  },
  {
   "cell_type": "code",
   "execution_count": 2,
   "metadata": {},
   "outputs": [
    {
     "name": "stdout",
     "output_type": "stream",
     "text": [
      "<class 'pandas.core.frame.DataFrame'>\n",
      "RangeIndex: 768 entries, 0 to 767\n",
      "Data columns (total 9 columns):\n",
      " #   Column  Non-Null Count  Dtype  \n",
      "---  ------  --------------  -----  \n",
      " 0   0       768 non-null    int64  \n",
      " 1   1       768 non-null    int64  \n",
      " 2   2       768 non-null    int64  \n",
      " 3   3       768 non-null    int64  \n",
      " 4   4       768 non-null    int64  \n",
      " 5   5       768 non-null    float64\n",
      " 6   6       768 non-null    float64\n",
      " 7   7       768 non-null    int64  \n",
      " 8   8       768 non-null    int64  \n",
      "dtypes: float64(2), int64(7)\n",
      "memory usage: 54.1 KB\n"
     ]
    }
   ],
   "source": [
    "data_df = pd.read_csv(\"diabetes.csv\", header=None)\n",
    "data_df.info()"
   ]
  },
  {
   "cell_type": "code",
   "execution_count": 3,
   "metadata": {},
   "outputs": [],
   "source": [
    "X = data_df.iloc[:,0:8]\n",
    "y = data_df.iloc[:,8]"
   ]
  },
  {
   "cell_type": "code",
   "execution_count": 4,
   "metadata": {},
   "outputs": [
    {
     "data": {
      "text/plain": [
       "(768, 8)"
      ]
     },
     "execution_count": 4,
     "metadata": {},
     "output_type": "execute_result"
    }
   ],
   "source": [
    "X.shape"
   ]
  },
  {
   "cell_type": "code",
   "execution_count": 5,
   "metadata": {},
   "outputs": [
    {
     "name": "stderr",
     "output_type": "stream",
     "text": [
      "2022-08-29 18:49:00.377287: I tensorflow/core/platform/cpu_feature_guard.cc:193] This TensorFlow binary is optimized with oneAPI Deep Neural Network Library (oneDNN) to use the following CPU instructions in performance-critical operations:  AVX2 FMA\n",
      "To enable them in other operations, rebuild TensorFlow with the appropriate compiler flags.\n"
     ]
    }
   ],
   "source": [
    "# Crear red neuronal \n",
    "model = Sequential()\n",
    "\n",
    "# Primer parámetro: cantidad de neuronas\n",
    "# Segundo (solo en la primer capa): cantidad de entrada\n",
    "model.add(Dense(12, input_dim=8, activation='relu'))\n",
    "model.add(Dense(8, activation='relu'))\n",
    "\n",
    "model.add(Dense(1, activation='sigmoid'))"
   ]
  },
  {
   "cell_type": "code",
   "execution_count": 6,
   "metadata": {
    "scrolled": false
   },
   "outputs": [
    {
     "name": "stdout",
     "output_type": "stream",
     "text": [
      "Model: \"sequential\"\n",
      "_________________________________________________________________\n",
      " Layer (type)                Output Shape              Param #   \n",
      "=================================================================\n",
      " dense (Dense)               (None, 12)                108       \n",
      "                                                                 \n",
      " dense_1 (Dense)             (None, 8)                 104       \n",
      "                                                                 \n",
      " dense_2 (Dense)             (None, 1)                 9         \n",
      "                                                                 \n",
      "=================================================================\n",
      "Total params: 221\n",
      "Trainable params: 221\n",
      "Non-trainable params: 0\n",
      "_________________________________________________________________\n"
     ]
    }
   ],
   "source": [
    "model.summary()"
   ]
  },
  {
   "cell_type": "code",
   "execution_count": 7,
   "metadata": {},
   "outputs": [],
   "source": [
    "model.compile(\n",
    "    loss='binary_crossentropy',\n",
    "    optimizer='adam',\n",
    "    metrics=['accuracy']\n",
    ")"
   ]
  },
  {
   "cell_type": "code",
   "execution_count": 8,
   "metadata": {
    "scrolled": true
   },
   "outputs": [
    {
     "name": "stdout",
     "output_type": "stream",
     "text": [
      "Epoch 1/75\n",
      "24/24 - 0s - loss: 4.5441 - accuracy: 0.5221 - 271ms/epoch - 11ms/step\n",
      "Epoch 2/75\n",
      "24/24 - 0s - loss: 3.2271 - accuracy: 0.5156 - 15ms/epoch - 605us/step\n",
      "Epoch 3/75\n",
      "24/24 - 0s - loss: 2.0662 - accuracy: 0.5052 - 14ms/epoch - 603us/step\n",
      "Epoch 4/75\n",
      "24/24 - 0s - loss: 1.3294 - accuracy: 0.5117 - 17ms/epoch - 690us/step\n",
      "Epoch 5/75\n",
      "24/24 - 0s - loss: 1.0832 - accuracy: 0.5612 - 21ms/epoch - 878us/step\n",
      "Epoch 6/75\n",
      "24/24 - 0s - loss: 0.9556 - accuracy: 0.5729 - 20ms/epoch - 835us/step\n",
      "Epoch 7/75\n",
      "24/24 - 0s - loss: 0.8784 - accuracy: 0.5651 - 20ms/epoch - 817us/step\n",
      "Epoch 8/75\n",
      "24/24 - 0s - loss: 0.8363 - accuracy: 0.5833 - 21ms/epoch - 894us/step\n",
      "Epoch 9/75\n",
      "24/24 - 0s - loss: 0.7884 - accuracy: 0.5898 - 22ms/epoch - 908us/step\n",
      "Epoch 10/75\n",
      "24/24 - 0s - loss: 0.7538 - accuracy: 0.6120 - 21ms/epoch - 880us/step\n",
      "Epoch 11/75\n",
      "24/24 - 0s - loss: 0.7360 - accuracy: 0.6380 - 23ms/epoch - 956us/step\n",
      "Epoch 12/75\n",
      "24/24 - 0s - loss: 0.7321 - accuracy: 0.6250 - 21ms/epoch - 888us/step\n",
      "Epoch 13/75\n",
      "24/24 - 0s - loss: 0.7212 - accuracy: 0.6172 - 22ms/epoch - 913us/step\n",
      "Epoch 14/75\n",
      "24/24 - 0s - loss: 0.6994 - accuracy: 0.6497 - 21ms/epoch - 889us/step\n",
      "Epoch 15/75\n",
      "24/24 - 0s - loss: 0.6797 - accuracy: 0.6667 - 20ms/epoch - 851us/step\n",
      "Epoch 16/75\n",
      "24/24 - 0s - loss: 0.6701 - accuracy: 0.6641 - 21ms/epoch - 894us/step\n",
      "Epoch 17/75\n",
      "24/24 - 0s - loss: 0.6650 - accuracy: 0.6667 - 22ms/epoch - 924us/step\n",
      "Epoch 18/75\n",
      "24/24 - 0s - loss: 0.6589 - accuracy: 0.6589 - 22ms/epoch - 936us/step\n",
      "Epoch 19/75\n",
      "24/24 - 0s - loss: 0.6615 - accuracy: 0.6745 - 22ms/epoch - 897us/step\n",
      "Epoch 20/75\n",
      "24/24 - 0s - loss: 0.6459 - accuracy: 0.6797 - 21ms/epoch - 872us/step\n",
      "Epoch 21/75\n",
      "24/24 - 0s - loss: 0.6584 - accuracy: 0.6706 - 24ms/epoch - 1ms/step\n",
      "Epoch 22/75\n",
      "24/24 - 0s - loss: 0.6615 - accuracy: 0.6797 - 24ms/epoch - 985us/step\n",
      "Epoch 23/75\n",
      "24/24 - 0s - loss: 0.6419 - accuracy: 0.6927 - 23ms/epoch - 963us/step\n",
      "Epoch 24/75\n",
      "24/24 - 0s - loss: 0.6272 - accuracy: 0.6940 - 22ms/epoch - 906us/step\n",
      "Epoch 25/75\n",
      "24/24 - 0s - loss: 0.6278 - accuracy: 0.6810 - 22ms/epoch - 914us/step\n",
      "Epoch 26/75\n",
      "24/24 - 0s - loss: 0.6283 - accuracy: 0.6979 - 21ms/epoch - 876us/step\n",
      "Epoch 27/75\n",
      "24/24 - 0s - loss: 0.6147 - accuracy: 0.7057 - 22ms/epoch - 909us/step\n",
      "Epoch 28/75\n",
      "24/24 - 0s - loss: 0.6219 - accuracy: 0.6927 - 22ms/epoch - 910us/step\n",
      "Epoch 29/75\n",
      "24/24 - 0s - loss: 0.6495 - accuracy: 0.6758 - 22ms/epoch - 920us/step\n",
      "Epoch 30/75\n",
      "24/24 - 0s - loss: 0.6064 - accuracy: 0.7018 - 21ms/epoch - 873us/step\n",
      "Epoch 31/75\n",
      "24/24 - 0s - loss: 0.6701 - accuracy: 0.6758 - 22ms/epoch - 916us/step\n",
      "Epoch 32/75\n",
      "24/24 - 0s - loss: 0.6109 - accuracy: 0.7044 - 21ms/epoch - 877us/step\n",
      "Epoch 33/75\n",
      "24/24 - 0s - loss: 0.6128 - accuracy: 0.7044 - 23ms/epoch - 941us/step\n",
      "Epoch 34/75\n",
      "24/24 - 0s - loss: 0.6106 - accuracy: 0.6953 - 21ms/epoch - 889us/step\n",
      "Epoch 35/75\n",
      "24/24 - 0s - loss: 0.5992 - accuracy: 0.7161 - 22ms/epoch - 912us/step\n",
      "Epoch 36/75\n",
      "24/24 - 0s - loss: 0.6066 - accuracy: 0.7122 - 23ms/epoch - 940us/step\n",
      "Epoch 37/75\n",
      "24/24 - 0s - loss: 0.6061 - accuracy: 0.6862 - 21ms/epoch - 895us/step\n",
      "Epoch 38/75\n",
      "24/24 - 0s - loss: 0.6135 - accuracy: 0.6862 - 24ms/epoch - 998us/step\n",
      "Epoch 39/75\n",
      "24/24 - 0s - loss: 0.6106 - accuracy: 0.7122 - 24ms/epoch - 982us/step\n",
      "Epoch 40/75\n",
      "24/24 - 0s - loss: 0.6084 - accuracy: 0.6966 - 22ms/epoch - 932us/step\n",
      "Epoch 41/75\n",
      "24/24 - 0s - loss: 0.6141 - accuracy: 0.6953 - 23ms/epoch - 963us/step\n",
      "Epoch 42/75\n",
      "24/24 - 0s - loss: 0.5919 - accuracy: 0.7174 - 23ms/epoch - 950us/step\n",
      "Epoch 43/75\n",
      "24/24 - 0s - loss: 0.6096 - accuracy: 0.6992 - 22ms/epoch - 921us/step\n",
      "Epoch 44/75\n",
      "24/24 - 0s - loss: 0.6176 - accuracy: 0.6784 - 22ms/epoch - 931us/step\n",
      "Epoch 45/75\n",
      "24/24 - 0s - loss: 0.5830 - accuracy: 0.7253 - 22ms/epoch - 898us/step\n",
      "Epoch 46/75\n",
      "24/24 - 0s - loss: 0.5856 - accuracy: 0.7135 - 22ms/epoch - 933us/step\n",
      "Epoch 47/75\n",
      "24/24 - 0s - loss: 0.5853 - accuracy: 0.7227 - 23ms/epoch - 967us/step\n",
      "Epoch 48/75\n",
      "24/24 - 0s - loss: 0.5861 - accuracy: 0.7174 - 23ms/epoch - 951us/step\n",
      "Epoch 49/75\n",
      "24/24 - 0s - loss: 0.5852 - accuracy: 0.7044 - 22ms/epoch - 924us/step\n",
      "Epoch 50/75\n",
      "24/24 - 0s - loss: 0.5735 - accuracy: 0.7253 - 21ms/epoch - 888us/step\n",
      "Epoch 51/75\n",
      "24/24 - 0s - loss: 0.5909 - accuracy: 0.7148 - 22ms/epoch - 902us/step\n",
      "Epoch 52/75\n",
      "24/24 - 0s - loss: 0.5891 - accuracy: 0.7161 - 23ms/epoch - 939us/step\n",
      "Epoch 53/75\n",
      "24/24 - 0s - loss: 0.5753 - accuracy: 0.7201 - 24ms/epoch - 1ms/step\n",
      "Epoch 54/75\n",
      "24/24 - 0s - loss: 0.5724 - accuracy: 0.7318 - 104ms/epoch - 4ms/step\n",
      "Epoch 55/75\n",
      "24/24 - 0s - loss: 0.5733 - accuracy: 0.7174 - 15ms/epoch - 606us/step\n",
      "Epoch 56/75\n",
      "24/24 - 0s - loss: 0.5938 - accuracy: 0.7070 - 14ms/epoch - 581us/step\n",
      "Epoch 57/75\n",
      "24/24 - 0s - loss: 0.5800 - accuracy: 0.7044 - 15ms/epoch - 617us/step\n",
      "Epoch 58/75\n",
      "24/24 - 0s - loss: 0.5708 - accuracy: 0.7240 - 18ms/epoch - 748us/step\n",
      "Epoch 59/75\n",
      "24/24 - 0s - loss: 0.5797 - accuracy: 0.7161 - 18ms/epoch - 752us/step\n",
      "Epoch 60/75\n",
      "24/24 - 0s - loss: 0.5732 - accuracy: 0.7227 - 19ms/epoch - 794us/step\n",
      "Epoch 61/75\n",
      "24/24 - 0s - loss: 0.5837 - accuracy: 0.7122 - 18ms/epoch - 760us/step\n",
      "Epoch 62/75\n",
      "24/24 - 0s - loss: 0.5736 - accuracy: 0.7188 - 18ms/epoch - 745us/step\n",
      "Epoch 63/75\n",
      "24/24 - 0s - loss: 0.5748 - accuracy: 0.7057 - 18ms/epoch - 763us/step\n",
      "Epoch 64/75\n",
      "24/24 - 0s - loss: 0.5836 - accuracy: 0.7018 - 18ms/epoch - 758us/step\n",
      "Epoch 65/75\n",
      "24/24 - 0s - loss: 0.5613 - accuracy: 0.7357 - 18ms/epoch - 738us/step\n",
      "Epoch 66/75\n",
      "24/24 - 0s - loss: 0.5733 - accuracy: 0.7161 - 19ms/epoch - 776us/step\n",
      "Epoch 67/75\n",
      "24/24 - 0s - loss: 0.5682 - accuracy: 0.7266 - 17ms/epoch - 715us/step\n",
      "Epoch 68/75\n",
      "24/24 - 0s - loss: 0.5622 - accuracy: 0.7305 - 18ms/epoch - 738us/step\n",
      "Epoch 69/75\n",
      "24/24 - 0s - loss: 0.5696 - accuracy: 0.7279 - 18ms/epoch - 739us/step\n",
      "Epoch 70/75\n",
      "24/24 - 0s - loss: 0.5663 - accuracy: 0.7214 - 17ms/epoch - 727us/step\n",
      "Epoch 71/75\n",
      "24/24 - 0s - loss: 0.5679 - accuracy: 0.7344 - 19ms/epoch - 793us/step\n",
      "Epoch 72/75\n",
      "24/24 - 0s - loss: 0.5597 - accuracy: 0.7292 - 18ms/epoch - 748us/step\n",
      "Epoch 73/75\n",
      "24/24 - 0s - loss: 0.5670 - accuracy: 0.7253 - 18ms/epoch - 755us/step\n",
      "Epoch 74/75\n",
      "24/24 - 0s - loss: 0.5668 - accuracy: 0.7253 - 19ms/epoch - 783us/step\n",
      "Epoch 75/75\n",
      "24/24 - 0s - loss: 0.5630 - accuracy: 0.7292 - 19ms/epoch - 802us/step\n"
     ]
    }
   ],
   "source": [
    "historial = model.fit(\n",
    "    X.values,\n",
    "    y.values,\n",
    "    epochs=75,\n",
    "    verbose=2\n",
    ")"
   ]
  },
  {
   "cell_type": "code",
   "execution_count": 9,
   "metadata": {},
   "outputs": [
    {
     "data": {
      "image/png": "[encoded data removed]",
      "text/plain": [
       "<Figure size 432x288 with 1 Axes>"
      ]
     },
     "metadata": {
      "needs_background": "light"
     },
     "output_type": "display_data"
    }
   ],
   "source": [
    "plt.plot(historial.history['loss'])\n",
    "plt.show()"
   ]
  },
  {
   "cell_type": "code",
   "execution_count": 10,
   "metadata": {},
   "outputs": [
    {
     "data": {
      "image/png": "[encoded data removed]",
      "text/plain": [
       "<Figure size 432x288 with 1 Axes>"
      ]
     },
     "metadata": {
      "needs_background": "light"
     },
     "output_type": "display_data"
    }
   ],
   "source": [
    "plt.plot(historial.history['accuracy'])\n",
    "plt.show()"
   ]
  },
  {
   "cell_type": "code",
   "execution_count": 11,
   "metadata": {},
   "outputs": [
    {
     "name": "stdout",
     "output_type": "stream",
     "text": [
      "INFO:tensorflow:Assets written to: model_diabetes/assets\n"
     ]
    }
   ],
   "source": [
    "# Grabar modelo\n",
    "model.save('model_diabetes')"
   ]
  },
  {
   "cell_type": "code",
   "execution_count": 13,
   "metadata": {},
   "outputs": [],
   "source": [
    "import tensorflow as tf"
   ]
  },
  {
   "cell_type": "code",
   "execution_count": 14,
   "metadata": {},
   "outputs": [
    {
     "name": "stdout",
     "output_type": "stream",
     "text": [
      "Model: \"sequential\"\n",
      "_________________________________________________________________\n",
      " Layer (type)                Output Shape              Param #   \n",
      "=================================================================\n",
      " dense (Dense)               (None, 12)                108       \n",
      "                                                                 \n",
      " dense_1 (Dense)             (None, 8)                 104       \n",
      "                                                                 \n",
      " dense_2 (Dense)             (None, 1)                 9         \n",
      "                                                                 \n",
      "=================================================================\n",
      "Total params: 221\n",
      "Trainable params: 221\n",
      "Non-trainable params: 0\n",
      "_________________________________________________________________\n"
     ]
    }
   ],
   "source": [
    "# Leer modelo\n",
    "new_model = tf.keras.models.load_model('model_diabetes')\n",
    "\n",
    "new_model.summary()\n"
   ]
  }
 ],
 "metadata": {
  "kernelspec": {
   "display_name": "Python 3 (ipykernel)",
   "language": "python",
   "name": "python3"
  },
  "language_info": {
   "codemirror_mode": {
    "name": "ipython",
    "version": 3
   },
   "file_extension": ".py",
   "mimetype": "text/x-python",
   "name": "python",
   "nbconvert_exporter": "python",
   "pygments_lexer": "ipython3",
   "version": "3.9.12"
  }
 },
 "nbformat": 4,
 "nbformat_minor": 2
}
